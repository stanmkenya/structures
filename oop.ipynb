{
 "cells": [
  {
   "cell_type": "code",
   "execution_count": 2,
   "metadata": {},
   "outputs": [],
   "source": [
    "\n",
    "import csv\n",
    "\n",
    "#Create a class\n",
    "class Item:\n",
    "    pay_rate = 0.8\n",
    "    all = []\n",
    "    def __init__(self, name: str,price: float,quantity: float):\n",
    "        #print(f\"An instance created: {name}\")\n",
    "        # Run validation to the received arguments\n",
    "        assert price >=0\n",
    "        assert quantity >=0\n",
    "\n",
    "        #Assign to self object\n",
    "        self.name = name\n",
    "        self.price = price\n",
    "        self.quantity = quantity\n",
    "\n",
    "        #Actions to execute\n",
    "       # Item.all.append(self)\n",
    "    \n",
    "\n",
    "    def calculate_total_price(self):\n",
    "        return self.price * self.quantity\n",
    "    def apply_discount(self):\n",
    "        self.price = self.price * self.pay_rate\n",
    "    @classmethod    \n",
    "    def instantiate_from_csv(cls):\n",
    "        with open('data.csv', 'r') as f:\n",
    "            reader = csv.DictReader(f)\n",
    "         #convert to list\n",
    "            items=list(reader)\n",
    "\n",
    "        for item in items:\n",
    "           \n",
    "            Item(\n",
    "                name=str(item.get('name')),\n",
    "                price=float(item.get('price')),\n",
    "                quantity=int(item.get('quantity')),\n",
    "            )\n",
    "           \n",
    "\n",
    "    def __repr__(self):\n",
    "        return f\"Item('{self.name}',{self.price},{self.quantity})\"\n",
    "\n",
    "\n",
    "#print(Item.all)\n",
    "\n",
    "Item.instantiate_from_csv()\n",
    "#print(Item.all)"
   ]
  }
 ],
 "metadata": {
  "interpreter": {
   "hash": "723aa6465d8a9d55a3effeaa427555b222e4c812b70a914a808bb2f18e041af0"
  },
  "kernelspec": {
   "display_name": "Python 3.7.13 ('micro')",
   "language": "python",
   "name": "python3"
  },
  "language_info": {
   "codemirror_mode": {
    "name": "ipython",
    "version": 3
   },
   "file_extension": ".py",
   "mimetype": "text/x-python",
   "name": "python",
   "nbconvert_exporter": "python",
   "pygments_lexer": "ipython3",
   "version": "3.7.13"
  },
  "orig_nbformat": 4
 },
 "nbformat": 4,
 "nbformat_minor": 2
}
