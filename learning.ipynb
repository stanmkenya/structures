{
 "cells": [
  {
   "cell_type": "code",
   "execution_count": null,
   "metadata": {},
   "outputs": [],
   "source": []
  },
  {
   "cell_type": "code",
   "execution_count": 55,
   "metadata": {},
   "outputs": [
    {
     "name": "stdout",
     "output_type": "stream",
     "text": [
      "An instance created: phone\n",
      "An instance created: laptop\n",
      "400.0\n",
      "4000.0\n",
      "0.8\n",
      "0.8\n",
      "0.8\n",
      "{'__module__': '__main__', 'pay_rate': 0.8, '__init__': <function Item.__init__ at 0x7f7df0c7a170>, 'calculate_total_price': <function Item.calculate_total_price at 0x7f7df0c7a440>, 'apply_discount': <function Item.apply_discount at 0x7f7df0c7a200>, '__dict__': <attribute '__dict__' of 'Item' objects>, '__weakref__': <attribute '__weakref__' of 'Item' objects>, '__doc__': None}\n",
      "{'name': 'phone', 'price': 80.0, 'quantity': 5}\n"
     ]
    }
   ],
   "source": [
    "#Create a class\n",
    "class Item:\n",
    "    pay_rate = 0.8\n",
    "    def __init__(self, name: str,price: float,quantity: float):\n",
    "        print(f\"An instance created: {name}\")\n",
    "        #Run validation to the received arguments\n",
    "        assert price >=0\n",
    "        assert quantity >=0\n",
    "        #Assign to self object\n",
    "        self.name = name\n",
    "        self.price = price\n",
    "        self.quantity = quantity\n",
    "    \n",
    "\n",
    "    def calculate_total_price(self):\n",
    "        return self.price * self.quantity\n",
    "    def apply_discount(self):\n",
    "        self.price = self.price * self.pay_rate\n",
    "\n",
    "\n",
    "\n",
    "\n",
    "# creating an insatnce\n",
    "item1 = Item(\"phone\", 100,5)\n",
    "item1.apply_discount()\n",
    "#creating variables\n",
    "#item1.name = \"phone\"\n",
    "#item1.price = 100\n",
    "#item1.quantity = 5\n",
    "#print(item1.calculate_total_price(item1.price,item1.quantity))\n",
    "\n",
    "item2 =Item(\"laptop\",1000, 5)\n",
    "item2.apply_discount()\n",
    "#creating variables\n",
    "#item2.name = \"laptop\"\n",
    "#item2.price = 1000\n",
    "#item2.quantity = 5\n",
    "#print(item2.calculate_total_price(item2.price,item2.quantity))\n",
    "#print(type(item1))\n",
    "#print(type(item1.name))\n",
    "\n",
    "random_str = 'aaa'\n",
    "#print(random_str.upper())\n",
    "\n",
    "print(item1.calculate_total_price())\n",
    "print(item2.calculate_total_price())\n",
    "print(Item.pay_rate)\n",
    "print(item1.pay_rate)\n",
    "print(item2.pay_rate)\n",
    "print(Item.__dict__)\n",
    "print(item1.__dict__)\n",
    "\n"
   ]
  },
  {
   "cell_type": "markdown",
   "metadata": {},
   "source": []
  },
  {
   "cell_type": "markdown",
   "metadata": {},
   "source": []
  },
  {
   "cell_type": "markdown",
   "metadata": {},
   "source": []
  }
 ],
 "metadata": {
  "interpreter": {
   "hash": "723aa6465d8a9d55a3effeaa427555b222e4c812b70a914a808bb2f18e041af0"
  },
  "kernelspec": {
   "display_name": "Python 3.7.13 ('micro')",
   "language": "python",
   "name": "python3"
  },
  "language_info": {
   "codemirror_mode": {
    "name": "ipython",
    "version": 3
   },
   "file_extension": ".py",
   "mimetype": "text/x-python",
   "name": "python",
   "nbconvert_exporter": "python",
   "pygments_lexer": "ipython3",
   "version": "3.7.13"
  },
  "orig_nbformat": 4
 },
 "nbformat": 4,
 "nbformat_minor": 2
}
