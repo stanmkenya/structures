{
 "cells": [
  {
   "cell_type": "code",
   "execution_count": 2697,
   "metadata": {},
   "outputs": [
    {
     "name": "stdout",
     "output_type": "stream",
     "text": [
      "B\n"
     ]
    }
   ],
   "source": [
    "V1= \"a\"\n",
    "V2 = \"B\"\n",
    "\n",
    "#SWAP\n",
    "\n",
    "temp1 = V1\n",
    "temp2 = V2\n",
    "\n",
    "V1 = temp2\n",
    "V2 = temp1\n",
    "\n",
    "print(V1)"
   ]
  },
  {
   "cell_type": "code",
   "execution_count": 2698,
   "metadata": {},
   "outputs": [
    {
     "name": "stdout",
     "output_type": "stream",
     "text": [
      "  weight of '0.009876543209876543' is underweight\n"
     ]
    }
   ],
   "source": [
    "#name = \"stan\"\n",
    "#weight = 80\n",
    "#height =1.7\n",
    "def calc_bmi(weight,height):\n",
    "    bmi = weight /(height**2)\n",
    "\n",
    "    if bmi > 25:\n",
    "        print(f\"  weight of '{bmi}' is overweight\")\n",
    "    elif bmi < 18:\n",
    "        print(f\"  weight of '{bmi}' is underweight\")\n",
    "    else:\n",
    "        print(\"{bmi} BMI is okay\")\n",
    "\n",
    "weight = 80\n",
    "height =90 \n",
    "calc_bmi(80, 90)\n",
    "\n",
    "\n"
   ]
  },
  {
   "cell_type": "code",
   "execution_count": 2699,
   "metadata": {},
   "outputs": [
    {
     "data": {
      "text/plain": [
       "4"
      ]
     },
     "execution_count": 2699,
     "metadata": {},
     "output_type": "execute_result"
    }
   ],
   "source": [
    "def function2(x):\n",
    "    return 2*x\n",
    "x= 2\n",
    "function2(x)\n",
    "\n",
    "\n",
    "\n"
   ]
  },
  {
   "cell_type": "code",
   "execution_count": 2700,
   "metadata": {},
   "outputs": [],
   "source": [
    "name1 = \"Stan\"\n",
    "weight1 = 10\n",
    "height1=1\n",
    "\n",
    "name2 = \"Rhian\"\n",
    "weight2= 80\n",
    "height2 = 1.748\n",
    "def calculate_bmi(name,weight,height):\n",
    "    bmi = weight /(height**2)\n",
    "    print(\"BMI is:\", bmi)\n",
    "\n",
    "    if bmi >25:\n",
    "        print(f\" '{name}'is overweight\")\n",
    "    else:\n",
    "        print(f\"'{name}' weight is okay\")\n",
    "\n",
    "\n",
    "\n"
   ]
  },
  {
   "cell_type": "markdown",
   "metadata": {},
   "source": []
  },
  {
   "cell_type": "code",
   "execution_count": 2701,
   "metadata": {},
   "outputs": [
    {
     "name": "stdout",
     "output_type": "stream",
     "text": [
      "BMI is: 10.0\n",
      "'Stan' weight is okay\n",
      "BMI is: 26.182259947949667\n",
      " 'Rhian'is overweight\n",
      "None\n",
      "None\n"
     ]
    }
   ],
   "source": [
    "x= calculate_bmi(name1,weight1,height1)\n",
    "y= calculate_bmi(name2,weight2,height2)\n",
    "\n",
    "print(x)\n",
    "print(y)"
   ]
  },
  {
   "cell_type": "code",
   "execution_count": 2702,
   "metadata": {},
   "outputs": [
    {
     "name": "stdout",
     "output_type": "stream",
     "text": [
      "68972.181\n"
     ]
    }
   ],
   "source": [
    "kilometres = 111000\n",
    "\n",
    "def conversion_func(km):\n",
    "    return km*0.621371\n",
    "miles =conversion_func(kilometres)\n",
    "print(miles)"
   ]
  },
  {
   "cell_type": "code",
   "execution_count": 2703,
   "metadata": {},
   "outputs": [
    {
     "name": "stdout",
     "output_type": "stream",
     "text": [
      "[3, 10, -1, 2, 'hello', [11, 12]]\n",
      "[3, 10, -1, 2, 'hello']\n",
      "[3, 10, -1, 2]\n",
      "2\n",
      "100\n",
      "['microsoft', 'apple', 'banana']\n",
      "['microsoft', 'apple', 'banana']\n",
      "['banana', 'apple', 'microsoft']\n"
     ]
    }
   ],
   "source": [
    "#Lists\n",
    "a = [3,10, -1]\n",
    "\n",
    "#add item\n",
    "a.append(2)\n",
    "a.append(\"hello\")\n",
    "a.append([11,12])\n",
    "print(a)\n",
    "\n",
    "#delete a data item\n",
    "a.pop()\n",
    "print(a)\n",
    "a.pop()\n",
    "print(a)\n",
    "print(a[3])\n",
    "\n",
    "a[3]= 100\n",
    "print(a[3])\n",
    "\n",
    "\n",
    "b=[\"banana\", \"apple\",\"microsoft\"]\n",
    "\n",
    "#SWAP\n",
    "temp1 = b[0]\n",
    "temp2 = b[2]\n",
    "temp3= b[1]\n",
    "\n",
    "c=[temp2,temp3,temp1]\n",
    "print(c)\n",
    " \n",
    " # efficient swap\n",
    "temp = b[0]\n",
    "b[0] =  b[2]\n",
    "b[2] =temp\n",
    "\n",
    "print(b)\n",
    "\n",
    "#another one\n",
    "\n",
    "b[0], b[2] = b[2],b[0]\n",
    "print(b)\n",
    "\n",
    "\n",
    "\n",
    "\n",
    "\n",
    "\n",
    "\n"
   ]
  },
  {
   "cell_type": "code",
   "execution_count": 2704,
   "metadata": {},
   "outputs": [
    {
     "name": "stdout",
     "output_type": "stream",
     "text": [
      "banana\n",
      "banana\n",
      "apple\n",
      "apple\n",
      "microsoft\n",
      "microsoft\n",
      "35\n",
      "[1, 2, 3, 4, 5]\n",
      "15\n"
     ]
    }
   ],
   "source": [
    "#For Loop\n",
    "a =[\"banana\", \"apple\",\"microsoft\"]\n",
    "#for each element in a do following\n",
    "for fruit in a:\n",
    "    print(fruit)\n",
    "    print(fruit)\n",
    "\n",
    "b=[20,10,5]\n",
    "total= 0\n",
    "for number in b:\n",
    "    total+=number\n",
    "print(total)\n",
    "\n",
    "#find the sum\n",
    "c1=[1,2,3,4,5]\n",
    "c =list(range(1,6))\n",
    "print(c)\n",
    "sum = 0\n",
    "for i in range(1,6):\n",
    "  sum+=i\n",
    "print(sum)"
   ]
  },
  {
   "cell_type": "code",
   "execution_count": 2705,
   "metadata": {},
   "outputs": [
    {
     "name": "stdout",
     "output_type": "stream",
     "text": [
      "2\n"
     ]
    }
   ],
   "source": [
    "print (5%3)"
   ]
  },
  {
   "cell_type": "code",
   "execution_count": 2706,
   "metadata": {},
   "outputs": [
    {
     "name": "stdout",
     "output_type": "stream",
     "text": [
      "1\n"
     ]
    }
   ],
   "source": [
    "print(4%3)"
   ]
  },
  {
   "cell_type": "code",
   "execution_count": 2707,
   "metadata": {},
   "outputs": [
    {
     "name": "stdout",
     "output_type": "stream",
     "text": [
      "9\n",
      "2318\n"
     ]
    }
   ],
   "source": [
    "#Sum of multiple of 3\n",
    "multiple3_total = 0\n",
    "for i in range(1,8):\n",
    "    if i%3 == 0:\n",
    "        multiple3_total+=i\n",
    "print(multiple3_total)\n",
    "        \n",
    "\n",
    "## Compute all multiples of 3, 5 that are less than 100\n",
    "multiple35 = 0\n",
    "for i in range(1,100): \n",
    "    if i%3 == 0 or i%5==0:\n",
    "        multiple35+=i\n",
    "print(multiple35)\n"
   ]
  },
  {
   "cell_type": "markdown",
   "metadata": {},
   "source": []
  },
  {
   "cell_type": "code",
   "execution_count": 2708,
   "metadata": {},
   "outputs": [
    {
     "name": "stdout",
     "output_type": "stream",
     "text": [
      "10\n",
      "10\n",
      "17\n"
     ]
    }
   ],
   "source": [
    "#While Loops and break\n",
    "totals = 0\n",
    "for i in range(1,5):\n",
    "    totals+=i\n",
    "print(totals)\n",
    "\n",
    "sum2 = 0\n",
    "j=1\n",
    "\n",
    "while j<5:\n",
    "    sum2+=j\n",
    "    j+=1\n",
    "print(sum2)\n",
    "#calculate the sum of positive number\n",
    "given_list = [5,4,4,3,1,-2,-3,-5]\n",
    "total_given = 0\n",
    "i= 0\n",
    "while i < len(given_list) and given_list[i]>0:\n",
    "    total_given+=given_list[i]\n",
    "    i+=1\n",
    "print(total_given )\n"
   ]
  },
  {
   "cell_type": "code",
   "execution_count": 2709,
   "metadata": {},
   "outputs": [
    {
     "name": "stdout",
     "output_type": "stream",
     "text": [
      "17\n"
     ]
    }
   ],
   "source": [
    "given_list = [5,4,4,3,1,-2,-3,-5]\n",
    "total_givens=0\n",
    "for j in given_list:\n",
    "    if j <= 0:\n",
    "        break\n",
    "    total_givens+=j\n",
    "print(total_givens)\n"
   ]
  },
  {
   "cell_type": "code",
   "execution_count": 2710,
   "metadata": {},
   "outputs": [
    {
     "name": "stdout",
     "output_type": "stream",
     "text": [
      "17\n"
     ]
    }
   ],
   "source": [
    "given_list2 = [5,4,4,3,1,-2,-3,-5]\n",
    "total_break=0\n",
    "element=0\n",
    "\n",
    "while element < len(given_list2):\n",
    "   \n",
    "    if given_list2[element] <= 0:\n",
    "        break\n",
    "    total_break+=given_list2[element]\n",
    "    element+=1\n",
    "print(total_break)\n",
    "\n",
    "\n",
    "\n"
   ]
  },
  {
   "cell_type": "code",
   "execution_count": 2711,
   "metadata": {},
   "outputs": [
    {
     "name": "stdout",
     "output_type": "stream",
     "text": [
      "-17\n"
     ]
    }
   ],
   "source": [
    "given_list_3 = [7,5,4,4,3,1,-2,-3,-5,-7]\n",
    "sum_negative=0\n",
    "i=-1\n",
    "\n",
    "while True:\n",
    "    if given_list_3[i] > 0:\n",
    "        break\n",
    "    sum_negative+=given_list_3[i]\n",
    "    i+=-1\n",
    "print(sum_negative)"
   ]
  },
  {
   "cell_type": "code",
   "execution_count": 2712,
   "metadata": {},
   "outputs": [
    {
     "name": "stdout",
     "output_type": "stream",
     "text": [
      "-17\n"
     ]
    }
   ],
   "source": [
    "given_list_3 = [7,5,4,4,3,1,-2,-3,-5,-7]\n",
    "sum_nega=0\n",
    "\n",
    "for i in given_list_3:\n",
    "    if i<0:\n",
    "        sum_nega+=i\n",
    "print(sum_nega)"
   ]
  },
  {
   "cell_type": "code",
   "execution_count": 2713,
   "metadata": {},
   "outputs": [
    {
     "name": "stdout",
     "output_type": "stream",
     "text": [
      "banana\n",
      "apple\n",
      "apple\n",
      "microsoft\n",
      "microsoft\n",
      "microsoft\n"
     ]
    }
   ],
   "source": [
    "a =[\"banana\", \"apple\",\"microsoft\"]\n",
    "\n",
    "for fruit in range(len(a)): #0,1,2\n",
    "    \n",
    "    for j in range(fruit+1):\n",
    "        #fruit=0, j=0\n",
    "        # fruit=1, j=0, 1\n",
    "          # fruit=2, j=0, 1, 2\n",
    "  \n",
    "        print(a[fruit])"
   ]
  },
  {
   "cell_type": "code",
   "execution_count": 2714,
   "metadata": {},
   "outputs": [],
   "source": [
    "#Dictionaries are basically look up tables\n",
    "d1=dict()\n"
   ]
  },
  {
   "cell_type": "code",
   "execution_count": 2715,
   "metadata": {},
   "outputs": [],
   "source": [
    "d ={}\n",
    "#d={\"George\": 24, \"Tom\":32}"
   ]
  },
  {
   "cell_type": "code",
   "execution_count": 2716,
   "metadata": {},
   "outputs": [
    {
     "name": "stdout",
     "output_type": "stream",
     "text": [
      "{'George': 24, 'Tom': 32, 'Jenny': 16, 'Gala': 18}\n",
      "24\n"
     ]
    }
   ],
   "source": [
    "d[\"George\"]=24\n",
    "d[\"Tom\"]=32\n",
    "d[\"Jenny\"]=16\n",
    "d[\"Gala\"]=18\n",
    "\n",
    "print(d)\n",
    "print(d[\"George\"])"
   ]
  },
  {
   "cell_type": "code",
   "execution_count": 2717,
   "metadata": {},
   "outputs": [
    {
     "name": "stdout",
     "output_type": "stream",
     "text": [
      "100\n"
     ]
    }
   ],
   "source": [
    "#Keys are comonly strings or numbers\n",
    "d[10]=100\n",
    "print(d[10])\n"
   ]
  },
  {
   "cell_type": "code",
   "execution_count": 2718,
   "metadata": {},
   "outputs": [
    {
     "name": "stdout",
     "output_type": "stream",
     "text": [
      "Key:\n",
      "George\n",
      "Value:\n",
      "24\n",
      "\n",
      "Key:\n",
      "Tom\n",
      "Value:\n",
      "32\n",
      "\n",
      "Key:\n",
      "Jenny\n",
      "Value:\n",
      "16\n",
      "\n",
      "Key:\n",
      "Gala\n",
      "Value:\n",
      "18\n",
      "\n",
      "Key:\n",
      "10\n",
      "Value:\n",
      "100\n",
      "\n"
     ]
    }
   ],
   "source": [
    "#how to iterate over key value pairs dictionary python\n",
    "for key, value in d.items():\n",
    "    print(\"Key:\")\n",
    "    print(key)\n",
    "    print(\"Value:\")\n",
    "    print(value)\n",
    "    print(\"\")\n"
   ]
  },
  {
   "cell_type": "code",
   "execution_count": 2719,
   "metadata": {},
   "outputs": [
    {
     "name": "stdout",
     "output_type": "stream",
     "text": [
      "A new robot created: 'nime' \n",
      "A new robot created: 'jerry' \n",
      "('nime', 'yellow', 74)\n",
      "('jerry', 'blue', 40)\n"
     ]
    }
   ],
   "source": [
    "class Robot:\n",
    "    def __init__(self,my_name :str,color:str, weight:int):\n",
    "     #costructors\n",
    "     self.name= my_name\n",
    "     self.color=color\n",
    "     self.weight=weight\n",
    "     print(f\"A new robot created: '{my_name}' \")\n",
    "\n",
    "\n",
    "    def introduce_self(self):\n",
    "      \n",
    "            return self.name, self.color, self.weight\n",
    "        \n",
    "\n",
    "        \n",
    "\n",
    "        \n",
    "    \n",
    "r1=Robot(\"nime\",\"yellow\", 74)\n",
    "    \n",
    "r2=Robot(\"jerry\",\"blue\", 40)\n",
    "\n",
    "print(r1.introduce_self())\n",
    "print(r2.introduce_self())\n",
    "\n"
   ]
  },
  {
   "cell_type": "code",
   "execution_count": null,
   "metadata": {},
   "outputs": [],
   "source": []
  },
  {
   "cell_type": "code",
   "execution_count": 2720,
   "metadata": {},
   "outputs": [
    {
     "name": "stdout",
     "output_type": "stream",
     "text": [
      "Standing\n",
      "None\n",
      "Sitting \n",
      "None\n",
      "Sitting \n",
      "None\n",
      "Standing\n",
      "None\n"
     ]
    },
    {
     "data": {
      "text/plain": [
       "('jerry', 'blue', 40)"
      ]
     },
     "execution_count": 2720,
     "metadata": {},
     "output_type": "execute_result"
    }
   ],
   "source": [
    "class Person:\n",
    "    def __init__(self, name:str, personality:str ,isSitting: bool ):\n",
    "        self.name=name\n",
    "        self.personality=personality\n",
    "        self.isSitting=isSitting\n",
    "    def sit_down(self):\n",
    "        b= self.isSitting \n",
    "\n",
    "        if b is True:\n",
    "            print(\"Sitting \")\n",
    "        else:\n",
    "            print(\"Standing\")\n",
    "        \n",
    "    def stand_up(self):\n",
    "       \n",
    "\n",
    "        a= self.isSitting \n",
    "\n",
    "        if a is False :\n",
    "            print(\"Sitting \")\n",
    "        else:\n",
    "            print(\"Standing\")\n",
    "    \n",
    "p1 = Person(\"Alice\",\"Agressive\",False)\n",
    "p2 = Person(\"Bob\",\"Talkative\",True)\n",
    "\n",
    "print(p1.sit_down())\n",
    "print(p1.stand_up())\n",
    "print(p2.sit_down())\n",
    "\n",
    "print(p2.stand_up())\n",
    "\n",
    "#p1 owns r2\n",
    "\n",
    "p1.robot_owned = r2\n",
    "p2.robot_owned = r1\n",
    "\n",
    "p1.robot_owned.introduce_self()\n",
    "\n"
   ]
  },
  {
   "cell_type": "code",
   "execution_count": 2721,
   "metadata": {},
   "outputs": [
    {
     "data": {
      "text/plain": [
       "True"
      ]
     },
     "execution_count": 2721,
     "metadata": {},
     "output_type": "execute_result"
    }
   ],
   "source": [
    "def c_greater_than_d_plus_e(c,d,e):\n",
    "    if c> d+e :\n",
    "        return True\n",
    "    else:\n",
    "        return False\n",
    "\n",
    "c_greater_than_d_plus_e(4,0,3)"
   ]
  },
  {
   "cell_type": "code",
   "execution_count": 2722,
   "metadata": {},
   "outputs": [
    {
     "name": "stdout",
     "output_type": "stream",
     "text": [
      "[10, 20]\n",
      "[2, 6, 10, 14, 22]\n",
      "[2, 6, 10, 14, 22]\n",
      "[1, 4, 9, 16, 25, 36]\n",
      "[1, 4, 9, 16, 25, 36]\n",
      "Reversed [36, 25, 16, 9, 4, 1]\n",
      "[36, 25, 16, 9, 4, 1]\n",
      "[36, 25, 16, 9, 4, 1]\n",
      "[36, 25, 16, 9, 4, 1]\n",
      "[1, 4, 9, 16, 25, 36]\n"
     ]
    }
   ],
   "source": [
    "#List Comprehension\n",
    "\n",
    "a=[1,3,5,7,11]\n",
    "\n",
    "b=[ ]\n",
    "b.append(10)\n",
    "b.append(20)\n",
    "print(b)\n",
    "#multiply by 2 all items in a\n",
    "c=[ ]\n",
    "for item in a:\n",
    "    c.append(item*2)\n",
    "print(c)\n",
    "\n",
    "#or\n",
    "\n",
    "d= [y *2 for y in a]\n",
    "print(d)\n",
    "\n",
    "## Print [1,4,9,16,25,36]\n",
    "el = [ ]\n",
    "for item in range (1,7):\n",
    "    el.append(item**2)\n",
    "print(el)\n",
    "\n",
    "fl= [item ** 2 for item in range (1,7) ]\n",
    "print(fl)\n",
    "#Revers\n",
    "fl.reverse()\n",
    "print(f\"Reversed {fl}\")\n",
    "\n",
    "#PRINT 36,25,16,9,4,1\n",
    "\n",
    "rl =[6,5,4,3,2,1]\n",
    "tr=[]\n",
    "for item in rl:\n",
    "    tr.append(item **2 )\n",
    "\n",
    "print(tr)\n",
    "\n",
    "#ANOTHER WAY\n",
    "\n",
    "tc=[]\n",
    "for item in range(6,0,-1):\n",
    "    tc.append(item**2)\n",
    "print(tc)\n",
    " \n",
    "\n",
    "pt=[item**2 for item in range(6,0,-1)]\n",
    "print(pt)\n",
    "pt.reverse()\n",
    "print(pt)\n",
    "\n"
   ]
  },
  {
   "cell_type": "code",
   "execution_count": 2723,
   "metadata": {},
   "outputs": [
    {
     "name": "stdout",
     "output_type": "stream",
     "text": [
      "set()\n",
      "{1, 2, 3, 4}\n",
      "{1, 2, 3, 4}\n",
      "{1, 2, 3, 4}\n",
      "{1, 2, 3, 4}\n",
      "{1, 2, 3, 4}\n",
      "{1, 2, 4, 5}\n",
      "[1, 2, 4, 5]\n",
      "{1, 'banana', 'apple'}\n",
      "8\n"
     ]
    }
   ],
   "source": [
    "#Sets in python\n",
    "#A set is a type of data that stores a set of unique things\n",
    "#rejects duplicates\n",
    "\n",
    "a= set()\n",
    "print (a)\n",
    "a.add(1)\n",
    "a.add(3)\n",
    "a.add(3)\n",
    "a.add(2)\n",
    "a.add(4)\n",
    "print (a)\n",
    "\n",
    "#iterate over every element in set\n",
    "\n",
    "for x in a:\n",
    "    print(a)\n",
    "#when to use sets? 1. remove duplicate\n",
    "\n",
    "given_list5= [1,2,2,2,4,5]\n",
    "\n",
    "new_set1 = set()\n",
    "\n",
    "for item in given_list5:\n",
    "    new_set1.add(item)\n",
    "print(new_set1)\n",
    "\n",
    "new_list = []\n",
    "#new_list.append(new_set1)\n",
    "for element in new_set1:\n",
    "    new_list.append(element)\n",
    "print(new_list)\n",
    "\n",
    "b= set()\n",
    "b.add('banana')\n",
    "b.add('apple')\n",
    "b.add(1)\n",
    "print(b)\n",
    "\n",
    "#Find the sum of unique elements in a list\n",
    "\n",
    "given_list10 = [1,3,4,1,3]\n",
    "k=set()\n",
    "total= 0\n",
    "for element in given_list10:\n",
    "    k.add(element)\n",
    "for item in k:\n",
    "    total+=item\n",
    "print(total)\n",
    "#another way\n",
    "\n",
    "\n"
   ]
  },
  {
   "cell_type": "markdown",
   "metadata": {},
   "source": []
  },
  {
   "cell_type": "code",
   "execution_count": 2724,
   "metadata": {},
   "outputs": [
    {
     "data": {
      "text/plain": [
       "183"
      ]
     },
     "execution_count": 2724,
     "metadata": {},
     "output_type": "execute_result"
    }
   ],
   "source": [
    "#Big O Notation\n",
    "given_array =[1,4,3,2,10,11,30,40,1,5,6,7,6,8,8,8,8,9,9,7]\n",
    "def find_sum(given_array):\n",
    "    sum=0\n",
    "    for element in given_array:\n",
    "        sum+=element\n",
    "    return sum\n",
    "find_sum(given_array)\n",
    "\n",
    "#time complexity: linear time \n"
   ]
  },
  {
   "cell_type": "code",
   "execution_count": 2725,
   "metadata": {},
   "outputs": [
    {
     "name": "stdout",
     "output_type": "stream",
     "text": [
      "24\n"
     ]
    }
   ],
   "source": [
    "##Recursive function\n",
    "##Print factorial\n",
    "\n",
    "#PSEUDO CODE\n",
    "\n",
    "# n! { n*(n-1)! if n > = 1 else\n",
    "#.      1 if n = 0\n",
    "       \n",
    "\n",
    "\n",
    "#}\n",
    "def fact(n):\n",
    "    if n>=1:\n",
    "        return n * fact(n-1)\n",
    "    else:\n",
    "        return 1\n",
    "print(fact(4))\n",
    "    \n",
    "\n"
   ]
  },
  {
   "cell_type": "code",
   "execution_count": 2726,
   "metadata": {},
   "outputs": [
    {
     "name": "stdout",
     "output_type": "stream",
     "text": [
      "21\n"
     ]
    }
   ],
   "source": [
    "def fib(n):\n",
    "    if n>= 3:\n",
    "        return fib(n-1) + fib(n-2)\n",
    "    elif n==2 or n==1:\n",
    "        return 1\n",
    "    else:\n",
    "        return 0\n",
    "\n",
    "   \n",
    "print(fib(8))"
   ]
  },
  {
   "cell_type": "code",
   "execution_count": 2727,
   "metadata": {},
   "outputs": [
    {
     "name": "stdout",
     "output_type": "stream",
     "text": [
      "55\n"
     ]
    }
   ],
   "source": [
    "###Fibonacci Sequence\n",
    "# a sequence that starts with two ones and subsequent numbers are \n",
    "# additions of two previous numbers\n",
    "# Given 1,1,2,3,5,8\n",
    "# write a funvtion fib(n)    that returns the nth number in the \n",
    "#sequence\n",
    "\n",
    "def fib(n):\n",
    "    if n>= 3:\n",
    "        return fib(n-1) + fib(n-2) ##recursive case\n",
    "    elif n==2 or n==1:\n",
    "        return 1###base case\n",
    "    else:\n",
    "        return 0\n",
    "\n",
    "   \n",
    "print(fib(10))\n"
   ]
  },
  {
   "cell_type": "code",
   "execution_count": 2728,
   "metadata": {},
   "outputs": [
    {
     "data": {
      "text/plain": [
       "True"
      ]
     },
     "execution_count": 2728,
     "metadata": {},
     "output_type": "execute_result"
    }
   ],
   "source": [
    "### Union find\n",
    "###connect\n",
    "# p and q\n",
    "\n",
    "class UnionFind:\n",
    "    def __init__(self,p,q):\n",
    "     self.p = p\n",
    "     self.q=q\n",
    "    def union(p,q):\n",
    "        return \n",
    "    def  isConnnected(p,q):\n",
    "         if p+q:\n",
    "            return True\n",
    "    \n",
    "uf = UnionFind\n",
    "p = 6\n",
    "q= 8\n",
    " \n",
    "uf.union(6,8)\n",
    "uf.isConnnected(6,8)\n"
   ]
  },
  {
   "cell_type": "code",
   "execution_count": 2729,
   "metadata": {},
   "outputs": [
    {
     "data": {
      "text/plain": [
       "24"
      ]
     },
     "execution_count": 2729,
     "metadata": {},
     "output_type": "execute_result"
    }
   ],
   "source": [
    "#Tree Data Structures\n",
    "#Find the sum of nodes in binary tree\n",
    "\n",
    "\n",
    "#  Our example tree looks like this:\n",
    "#         2\n",
    "#       /   \\\n",
    "#      3     4\n",
    "#     / \\\n",
    "#    5   6\n",
    "\n",
    "class Root:\n",
    "\n",
    "    def __init__(self,data):\n",
    "        self.data= data\n",
    "    def find_sum(root):\n",
    "        if root == None:\n",
    "            return 0\n",
    "        else:\n",
    "             return root.data +find_sum(root.left) + find_sum(root.right)\n",
    "data=[2,3,4,7,8]\n",
    "left=Root(3)\n",
    "right=Root(4)\n",
    "find_sum(data)\n",
    "\n",
    "\n",
    "    "
   ]
  },
  {
   "cell_type": "code",
   "execution_count": 2730,
   "metadata": {},
   "outputs": [
    {
     "name": "stdout",
     "output_type": "stream",
     "text": [
      "Sum of all values of this tree is (should print 20):\n",
      "20\n"
     ]
    }
   ],
   "source": [
    "#CS DOJO\n",
    "class Node:\n",
    "    def __init__(self, data):\n",
    "        self.data = data\n",
    "        self.left = None\n",
    "        self.right = None\n",
    "\n",
    "def sum_values(root):\n",
    "    if (root == None):\n",
    "        return 0\n",
    "    return root.data + sum_values(root.left) + sum_values(root.right)\n",
    "\n",
    "\n",
    "#  Our example tree looks like this:\n",
    "#         2\n",
    "#       /   \\\n",
    "#      3     4\n",
    "#     / \\\n",
    "#    5   6\n",
    "\n",
    "node2 = Node(2)\n",
    "node3 = Node(3)\n",
    "node4 = Node(4)\n",
    "node5 = Node(5)\n",
    "node6 = Node(6)\n",
    "\n",
    "node2.left = node3\n",
    "node2.right = node4\n",
    "node3.left = node5\n",
    "node3.right = node6\n",
    "\n",
    "print(\"Sum of all values of this tree is (should print 20):\")\n",
    "print(sum_values(node2))\n"
   ]
  },
  {
   "cell_type": "code",
   "execution_count": 2735,
   "metadata": {},
   "outputs": [
    {
     "name": "stdout",
     "output_type": "stream",
     "text": [
      "6\n"
     ]
    }
   ],
   "source": [
    "\n",
    "# Binary search\n",
    "# Search the index of target :11 in the array: arr= [-2,3,4,7,8,9,11,13]\n",
    "\n",
    "\n",
    "def binary_search(arr,target):\n",
    "      \n",
    "        left = 0\n",
    "        right= (len(arr))-1\n",
    "        while (left <= right):\n",
    "            mid = int(left+right)/2\n",
    "            if arr[int(mid)]== target:\n",
    "                return int(mid)\n",
    "            \n",
    "            elif target < arr[int(mid)]:\n",
    "                right=int(mid)-1\n",
    "            else:\n",
    "                left=int(mid)+1\n",
    "        return -1\n",
    "    \n",
    "arr= [-2,3,4,7,8,9,11,13]\n",
    "target=11\n",
    "\n",
    "print(binary_search(arr, target))\n",
    "\n",
    "  "
   ]
  }
 ],
 "metadata": {
  "interpreter": {
   "hash": "723aa6465d8a9d55a3effeaa427555b222e4c812b70a914a808bb2f18e041af0"
  },
  "kernelspec": {
   "display_name": "Python 3.7.13 ('micro')",
   "language": "python",
   "name": "python3"
  },
  "language_info": {
   "codemirror_mode": {
    "name": "ipython",
    "version": 3
   },
   "file_extension": ".py",
   "mimetype": "text/x-python",
   "name": "python",
   "nbconvert_exporter": "python",
   "pygments_lexer": "ipython3",
   "version": "3.7.13"
  },
  "orig_nbformat": 4
 },
 "nbformat": 4,
 "nbformat_minor": 2
}
